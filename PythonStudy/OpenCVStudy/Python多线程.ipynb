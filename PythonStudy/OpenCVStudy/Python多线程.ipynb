{
 "cells": [
  {
   "cell_type": "code",
   "execution_count": 1,
   "id": "a70e95b6",
   "metadata": {},
   "outputs": [],
   "source": [
    "import threading\n",
    "from time import ctime,sleep"
   ]
  },
  {
   "cell_type": "code",
   "execution_count": 2,
   "id": "e7972d3d",
   "metadata": {},
   "outputs": [],
   "source": [
    "# 输出开始时间和结束时间\n",
    "def func(name, sec=1):\n",
    "    print(f'{name} ---开始--- : 当前时间 {ctime()}')\n",
    "    sleep(sec)\n",
    "    print(f'{name} ***结束*** : 当前时间 {ctime()}')"
   ]
  },
  {
   "cell_type": "code",
   "execution_count": 3,
   "id": "dda7ca62",
   "metadata": {},
   "outputs": [
    {
     "name": "stdout",
     "output_type": "stream",
     "text": [
      "线程1 ---开始--- : 当前时间 Wed Sep 29 13:10:10 2021\n"
     ]
    }
   ],
   "source": [
    "_thread1 = threading.Thread(target=func, args=['线程1'],kwargs={'sec':1})\n",
    "_thread1.start()"
   ]
  },
  {
   "cell_type": "code",
   "execution_count": 4,
   "id": "ed166b81",
   "metadata": {},
   "outputs": [
    {
     "name": "stdout",
     "output_type": "stream",
     "text": [
      "线程1 ---开始--- : 当前时间 Wed Sep 29 13:10:10 2021\n",
      "线程2 ---开始--- : 当前时间 Wed Sep 29 13:10:10 2021Hello World!\n",
      "\n"
     ]
    }
   ],
   "source": [
    "_thread1 = threading.Thread(target=func, args=['线程1'],kwargs={'sec':1})\n",
    "_thread2 = threading.Thread(target=func, args=['线程2'],kwargs={'sec':2})\n",
    "_thread1.start()\n",
    "_thread2.start()\n",
    "print('Hello World!')"
   ]
  },
  {
   "cell_type": "code",
   "execution_count": 5,
   "id": "cb96f0db",
   "metadata": {},
   "outputs": [
    {
     "name": "stdout",
     "output_type": "stream",
     "text": [
      "线程1 ---开始--- : 当前时间 Wed Sep 29 13:10:10 2021\n",
      "线程2 ---开始--- : 当前时间 Wed Sep 29 13:10:10 2021\n",
      "线程1 ***结束*** : 当前时间 Wed Sep 29 13:10:11 2021\n",
      "线程1 ***结束*** : 当前时间 Wed Sep 29 13:10:11 2021\n",
      "线程1 ***结束*** : 当前时间 Wed Sep 29 13:10:11 2021\n",
      "线程2 ***结束*** : 当前时间 Wed Sep 29 13:10:12 2021\n",
      "线程2 ***结束*** : 当前时间 Wed Sep 29 13:10:12 2021\n",
      "Hello World!\n"
     ]
    }
   ],
   "source": [
    "_thread1 = threading.Thread(target=func, args=['线程1'],kwargs={'sec':1})\n",
    "_thread2 = threading.Thread(target=func, args=['线程2'],kwargs={'sec':2})\n",
    "_thread1.start()\n",
    "_thread2.start()\n",
    "_thread1.join()\n",
    "_thread2.join()\n",
    "\n",
    "print('Hello World!')"
   ]
  },
  {
   "cell_type": "code",
   "execution_count": 6,
   "id": "97b59779",
   "metadata": {},
   "outputs": [],
   "source": [
    "from threading import Thread\n",
    "\n",
    "# 创建 Thread 的子类\n",
    "class MyThread(Thread):\n",
    "    def __init__(self, target, args, kwargs):\n",
    "        '''\n",
    "        :param target: 可调用的对象\n",
    "        :param args: 可调用对象的参数\n",
    "        :param kwargs: 可调用对象的关键字参数\n",
    "        '''\n",
    "        Thread.__init__(self)   # 不要忘记调用Thread的初始化方法\n",
    "        self.target = target\n",
    "        self.args = args\n",
    "        self.kwargs = kwargs\n",
    "        self.result = None\n",
    "\n",
    "    def run(self):\n",
    "        self.result = self.target(*self.args, **self.kwargs)\n",
    "        \n",
    "    def get_result(self):\n",
    "        return self.result"
   ]
  },
  {
   "cell_type": "code",
   "execution_count": 7,
   "id": "c9914b64",
   "metadata": {},
   "outputs": [
    {
     "name": "stdout",
     "output_type": "stream",
     "text": [
      "线程1 ---开始--- : 当前时间 Wed Sep 29 13:10:12 2021\n",
      "线程1 ***结束*** : 当前时间 Wed Sep 29 13:10:13 2021\n",
      "Hello World!\n"
     ]
    }
   ],
   "source": [
    "# 输出开始时间和结束时间\n",
    "def func(name, sec=1):\n",
    "    print(f'{name} ---开始--- : 当前时间 {ctime()}')\n",
    "    sleep(sec)\n",
    "    print(f'{name} ***结束*** : 当前时间 {ctime()}')\n",
    "    return 'Hello World!'\n",
    "\n",
    "_thread1 = MyThread(target = func, args = ['线程1'], kwargs = {'sec':1})\n",
    "_thread1.start()\n",
    "_thread1.join()  # 这里一定要等待_thread1执行结束之后才能获取结果\n",
    "print(_thread1.get_result())"
   ]
  },
  {
   "cell_type": "markdown",
   "id": "b43dd3d9",
   "metadata": {},
   "source": [
    "---"
   ]
  },
  {
   "cell_type": "markdown",
   "id": "d01d3fc7",
   "metadata": {},
   "source": [
    "# 线程同步、锁"
   ]
  },
  {
   "cell_type": "code",
   "execution_count": 8,
   "id": "0b8ba75b",
   "metadata": {},
   "outputs": [],
   "source": [
    "lock = threading.Lock()\n",
    "lock.acquire()  # 获得锁/加锁\n",
    "lock.release()  # 释放锁/解锁"
   ]
  },
  {
   "cell_type": "markdown",
   "id": "081dfb55",
   "metadata": {},
   "source": [
    "当我们通过 lock.acquire() 获得锁后线程程将一直执行不会中断，\n",
    "直到该线程 lock.release( )释放锁后线程才有可能被释放(注意：锁被释放后线程不一定会释放)。"
   ]
  },
  {
   "cell_type": "code",
   "execution_count": 11,
   "id": "1b513a9c",
   "metadata": {},
   "outputs": [
    {
     "name": "stdout",
     "output_type": "stream",
     "text": [
      "0\n"
     ]
    }
   ],
   "source": [
    "def func():\n",
    "    global _number  # 全局变量\n",
    "    lock.acquire()  # 获得锁，加锁，别的线程不可以使用_number\n",
    "    _number -= 1\n",
    "    lock.release()  # 释放锁，解锁，别的线程可以使用_number了\n",
    "\n",
    "\n",
    "if __name__ == '__main__':\n",
    "    lock = threading.Lock()\n",
    "    _number = 100\n",
    "    list_thread = []\n",
    "\n",
    "    for _ in range(100):  # 开启100个线程\n",
    "        _thread = threading.Thread(target=func)\n",
    "        _thread.start()\n",
    "        list_thread.append(_thread)\n",
    "\n",
    "    # 等待线程运行结束\n",
    "    for _thread in list_thread:\n",
    "        _thread.join()\n",
    "\n",
    "    print(_number)"
   ]
  },
  {
   "cell_type": "code",
   "execution_count": null,
   "id": "7f2643a8",
   "metadata": {},
   "outputs": [],
   "source": []
  }
 ],
 "metadata": {
  "kernelspec": {
   "display_name": "Python 3",
   "language": "python",
   "name": "python3"
  },
  "language_info": {
   "codemirror_mode": {
    "name": "ipython",
    "version": 3
   },
   "file_extension": ".py",
   "mimetype": "text/x-python",
   "name": "python",
   "nbconvert_exporter": "python",
   "pygments_lexer": "ipython3",
   "version": "3.8.9"
  }
 },
 "nbformat": 4,
 "nbformat_minor": 5
}
